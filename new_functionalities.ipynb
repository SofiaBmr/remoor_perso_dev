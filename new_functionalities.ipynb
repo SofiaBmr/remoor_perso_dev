{
 "cells": [
  {
   "cell_type": "markdown",
   "metadata": {},
   "source": [
    "AUTHOR : Sofia Boumahrat\n",
    "\n",
    "DATE : 22/11/2022\n",
    "\n",
    "PROJECT REMOOR SENSING"
   ]
  },
  {
   "cell_type": "markdown",
   "metadata": {},
   "source": [
    "# Imports"
   ]
  },
  {
   "cell_type": "code",
   "execution_count": 2,
   "metadata": {},
   "outputs": [],
   "source": [
    "import os\n",
    "import numpy as np\n",
    "from glob import glob\n",
    "\n",
    "import matplotlib.pyplot as plt\n",
    "\n",
    "import tensorflow as tf\n",
    "\n",
    "import pandas as pd\n",
    "from sklearn.model_selection import train_test_split\n",
    "\n",
    "from data_utils import index_files, build_dataset\n",
    "from eval_utils import plot_confusion_matrix, plot_to_image\n",
    "from train_utils import SparsePrecision, SparseRecall, BackupAndRestore"
   ]
  },
  {
   "cell_type": "markdown",
   "metadata": {},
   "source": [
    "# Set the parameters"
   ]
  },
  {
   "cell_type": "code",
   "execution_count": 4,
   "metadata": {},
   "outputs": [],
   "source": [
    "image_size = (250, 250)\n",
    "batch_size = 32\n",
    "SEED = 1137"
   ]
  },
  {
   "cell_type": "markdown",
   "metadata": {},
   "source": [
    "# Load the data"
   ]
  },
  {
   "cell_type": "code",
   "execution_count": 5,
   "metadata": {},
   "outputs": [],
   "source": [
    "data_path=\"ImagesLandesOccitanie\"\n",
    "img_dir = os.path.join(data_path)\n",
    "\n",
    "    # Images saved in TIFF format\n",
    "img_files = glob(os.path.join(img_dir, \"**/*.tif\"), recursive=True)\n",
    "\n",
    "img_labels = [path.split(\"/\")[-2] for path in img_files]\n",
    "class_names = np.unique(img_labels)\n",
    "class_ids = dict([(l, ix) for ix, l in enumerate(class_names)])\n",
    "\n",
    "\n",
    "\n",
    "files_train, files_test, labels_train, labels_test = train_test_split(\n",
    "    img_files, img_labels,\n",
    "    stratify=img_labels,\n",
    "    test_size=0.50,\n",
    "    random_state=SEED\n",
    ")"
   ]
  },
  {
   "cell_type": "markdown",
   "metadata": {},
   "source": [
    "# Functions\n",
    "### Get images from a directory based on a classement and put them in a new one"
   ]
  },
  {
   "cell_type": "code",
   "execution_count": 6,
   "metadata": {},
   "outputs": [],
   "source": [
    "import shutil\n",
    "\n",
    "def getfilesnames(df,th,files_test):\n",
    "    ''' Get the name of files where output probabilities is inferior to a rate\n",
    "    Input:\n",
    "        th: threshold between ]0,1[\n",
    "        df: dataframe containing the output probabilities\n",
    "        files_test: files from the test set\n",
    "    Output:\n",
    "        file_names : an array of filenames where their output probability is inferior to th\n",
    "    '''\n",
    "    mask_threshold=df.max_prob<th\n",
    "    index_mask=df[mask_threshold].index.values\n",
    "    file_names = [files_test[i] for i in index_mask]\n",
    "    return (file_names)\n",
    "\n",
    "def movefiles(files,destination):\n",
    "    '''  Move files from a directory to another\n",
    "    Input:\n",
    "        files: files to move\n",
    "        destination: destination directory for the files\n",
    "            example :\"/Users/boumahrat/Desktop/EPF/5A/remoor_sensing/test_model/Images_to_label_hand\"\n",
    "    '''\n",
    "    for name in files:\n",
    "        shutil.copy(name, destination)\n"
   ]
  },
  {
   "cell_type": "markdown",
   "metadata": {},
   "source": [
    "# Example of application"
   ]
  },
  {
   "cell_type": "code",
   "execution_count": 7,
   "metadata": {},
   "outputs": [],
   "source": [
    "#EXAMPLE OF USE\n",
    "\n",
    "#reproduce the datasets with the resulting predictions\n",
    "A=['culture_annuelle', 'culture_perenne','pelouse','lande_fermee','lande_fermee']\n",
    "B=[0.48,0.92,0.20,0.78,0.54]\n",
    "data = {'prediction': A, 'max_prob': B}\n",
    "df=pd.DataFrame(data)\n",
    "\n",
    "result=getfilesnames(df,0.55,files_test)\n",
    "destination=\"/Users/boumahrat/Desktop/EPF/5A/remoor_sensing/test_model/Images_to_label_hand\"\n",
    "movefiles(result,destination)"
   ]
  }
 ],
 "metadata": {
  "kernelspec": {
   "display_name": "Python 3.8.8 ('base')",
   "language": "python",
   "name": "python3"
  },
  "language_info": {
   "codemirror_mode": {
    "name": "ipython",
    "version": 3
   },
   "file_extension": ".py",
   "mimetype": "text/x-python",
   "name": "python",
   "nbconvert_exporter": "python",
   "pygments_lexer": "ipython3",
   "version": "3.8.8"
  },
  "orig_nbformat": 4,
  "vscode": {
   "interpreter": {
    "hash": "485e273add8fb184c6d9cdbd11faf43ad8772c6f0647b4e20f00b2170c02ebac"
   }
  }
 },
 "nbformat": 4,
 "nbformat_minor": 2
}
